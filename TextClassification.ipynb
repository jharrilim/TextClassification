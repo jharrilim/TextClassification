{
 "cells": [
  {
   "cell_type": "markdown",
   "metadata": {},
   "source": [
    "# Text Classification"
   ]
  },
  {
   "cell_type": "markdown",
   "metadata": {},
   "source": [
    "Attempting to classify text using K-Means clustering with the help of nltk."
   ]
  },
  {
   "cell_type": "markdown",
   "metadata": {},
   "source": [
    "## Requirements"
   ]
  },
  {
   "cell_type": "code",
   "execution_count": 78,
   "metadata": {},
   "outputs": [],
   "source": [
    "from nltk.tokenize import word_tokenize\n",
    "from nltk.corpus import stopwords\n",
    "from nltk.probability import FreqDist\n",
    "from string import punctuation\n",
    "import nltk\n",
    "from itertools import chain\n",
    "# Install these if not already installed: punkt, stopwords\n",
    "# import nltk\n",
    "# nltk.download('punkt')\n",
    "# nltk.download('stopwords')\n",
    "\n",
    "%matplotlib inline"
   ]
  },
  {
   "cell_type": "code",
   "execution_count": 45,
   "metadata": {},
   "outputs": [],
   "source": [
    "def get_sentences():\n",
    "    return ['I would like to create a task.', 'view task', 'view a task', \n",
    "            'create a task named foo', 'can i see my task list for groceries',\n",
    "            'show task list groceries', 'show task lists', 'give me my task lists',\n",
    "            'zevere, let me create a task called NewTask', 'Hey, can I create a task?']\n",
    "\n",
    "sentences = get_sentences()"
   ]
  },
  {
   "cell_type": "markdown",
   "metadata": {},
   "source": [
    "## Data Preprocessing"
   ]
  },
  {
   "cell_type": "code",
   "execution_count": 46,
   "metadata": {},
   "outputs": [
    {
     "name": "stdout",
     "output_type": "stream",
     "text": [
      "['i', 'would', 'like', 'to', 'create', 'a', 'task', '.']\n",
      "['view', 'task']\n",
      "['view', 'a', 'task']\n",
      "['create', 'a', 'task', 'named', 'foo']\n",
      "['can', 'i', 'see', 'my', 'task', 'list', 'for', 'groceries']\n",
      "['show', 'task', 'list', 'groceries']\n",
      "['show', 'task', 'lists']\n",
      "['give', 'me', 'my', 'task', 'lists']\n",
      "['zevere', ',', 'let', 'me', 'create', 'a', 'task', 'called', 'newtask']\n",
      "['hey', ',', 'can', 'i', 'create', 'a', 'task', '?']\n"
     ]
    }
   ],
   "source": [
    "tokenized_sentences = []\n",
    "for s in sentences:\n",
    "    tokenized_sentences.append(word_tokenize(s.lower()))\n",
    "\n",
    "for s in tokenized_sentences:\n",
    "    print(s)"
   ]
  },
  {
   "cell_type": "code",
   "execution_count": 47,
   "metadata": {},
   "outputs": [
    {
     "name": "stdout",
     "output_type": "stream",
     "text": [
      "!, \", #, $, %, &, ', (, ), *, +, ,, -, ., /, :, ;, <, =, >, ?, @, [, \\, ], ^, _, `, a, about, above, after, again, against, ain, all, am, an, and, any, are, aren, aren't, as, at, be, because, been, before, being, below, between, both, but, by, can, couldn, couldn't, d, did, didn, didn't, do, does, doesn, doesn't, doing, don, don't, down, during, each, few, for, from, further, had, hadn, hadn't, has, hasn, hasn't, have, haven, haven't, having, he, her, here, hers, herself, him, himself, his, how, i, if, in, into, is, isn, isn't, it, it's, its, itself, just, ll, m, ma, me, mightn, mightn't, more, most, mustn, mustn't, my, myself, needn, needn't, no, nor, not, now, o, of, off, on, once, only, or, other, our, ours, ourselves, out, over, own, re, s, same, shan, shan't, she, she's, should, should've, shouldn, shouldn't, so, some, such, t, than, that, that'll, the, their, theirs, them, themselves, then, there, these, they, this, those, through, to, too, under, until, up, ve, very, was, wasn, wasn't, we, were, weren, weren't, what, when, where, which, while, who, whom, why, will, with, won, won't, wouldn, wouldn't, y, you, you'd, you'll, you're, you've, your, yours, yourself, yourselves, {, |, }, ~\n"
     ]
    }
   ],
   "source": [
    "stop_words = set(stopwords.words('english') + list(punctuation))\n",
    "\n",
    "print(', '.join(sorted([word for word in stop_words])))"
   ]
  },
  {
   "cell_type": "code",
   "execution_count": 48,
   "metadata": {},
   "outputs": [
    {
     "data": {
      "text/plain": [
       "[['would', 'like', 'create', 'task'],\n",
       " ['view', 'task'],\n",
       " ['view', 'task'],\n",
       " ['create', 'task', 'named', 'foo'],\n",
       " ['see', 'task', 'list', 'groceries'],\n",
       " ['show', 'task', 'list', 'groceries'],\n",
       " ['show', 'task', 'lists'],\n",
       " ['give', 'task', 'lists'],\n",
       " ['zevere', 'let', 'create', 'task', 'called', 'newtask'],\n",
       " ['hey', 'create', 'task']]"
      ]
     },
     "execution_count": 48,
     "metadata": {},
     "output_type": "execute_result"
    }
   ],
   "source": [
    "filtered_sentences = []\n",
    "for s in tokenized_sentences:\n",
    "    filtered_s = [word for word in s if word not in stop_words]\n",
    "    filtered_sentences.append(filtered_s)\n",
    "filtered_sentences"
   ]
  },
  {
   "cell_type": "code",
   "execution_count": 80,
   "metadata": {},
   "outputs": [
    {
     "name": "stdout",
     "output_type": "stream",
     "text": [
      "Frequency Distributions for each sentence:\n",
      "\n",
      "[FreqDist({'would': 1, 'like': 1, 'create': 1, 'task': 1}), FreqDist({'view': 1, 'task': 1}), FreqDist({'view': 1, 'task': 1}), FreqDist({'create': 1, 'task': 1, 'named': 1, 'foo': 1}), FreqDist({'see': 1, 'task': 1, 'list': 1, 'groceries': 1}), FreqDist({'show': 1, 'task': 1, 'list': 1, 'groceries': 1}), FreqDist({'show': 1, 'task': 1, 'lists': 1}), FreqDist({'give': 1, 'task': 1, 'lists': 1}), FreqDist({'zevere': 1, 'let': 1, 'create': 1, 'task': 1, 'called': 1, 'newtask': 1}), FreqDist({'hey': 1, 'create': 1, 'task': 1})]\n",
      "\n",
      "Frequency Distribution of all sentences:\n",
      "\n",
      "('task', 10)\n",
      "('create', 4)\n",
      "('view', 2)\n",
      "('list', 2)\n",
      "('groceries', 2)\n",
      "('show', 2)\n",
      "('lists', 2)\n",
      "('would', 1)\n",
      "('like', 1)\n",
      "('named', 1)\n",
      "('foo', 1)\n",
      "('see', 1)\n",
      "('give', 1)\n",
      "('zevere', 1)\n",
      "('let', 1)\n",
      "('called', 1)\n",
      "('newtask', 1)\n",
      "('hey', 1)\n"
     ]
    },
    {
     "data": {
      "image/png": "[encoded data removed]",
      "text/plain": [
       "<Figure size 432x288 with 1 Axes>"
      ]
     },
     "metadata": {},
     "output_type": "display_data"
    }
   ],
   "source": [
    "frequency_distributions = []\n",
    "for s in filtered_sentences:\n",
    "    frequency_distributions.append(FreqDist(s))\n",
    "print('Frequency Distributions for each sentence:\\n')\n",
    "print(frequency_distributions)\n",
    "\n",
    "total_frequencies = FreqDist(list(chain(*filtered_sentences)))\n",
    "print('\\nFrequency Distribution of all sentences:\\n')\n",
    "for w in total_frequencies.most_common():\n",
    "    print(\"{}\".format(w))\n",
    "\n",
    "total_frequencies.plot(title='Frequency Distribution of all sentences')"
   ]
  }
 ],
 "metadata": {
  "kernelspec": {
   "display_name": "Python 3",
   "language": "python",
   "name": "python3"
  },
  "language_info": {
   "codemirror_mode": {
    "name": "ipython",
    "version": 3
   },
   "file_extension": ".py",
   "mimetype": "text/x-python",
   "name": "python",
   "nbconvert_exporter": "python",
   "pygments_lexer": "ipython3",
   "version": "3.6.5"
  }
 },
 "nbformat": 4,
 "nbformat_minor": 2
}
